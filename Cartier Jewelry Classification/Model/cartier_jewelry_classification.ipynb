{
 "cells": [
  {
   "cell_type": "markdown",
   "metadata": {},
   "source": [
    "# Cartier Jewelry Classification\n",
    "\n",
    "\n",
    "### Contents\n",
    "1. Abstract\n",
    "2. Dataset\n",
    "3. Goal\n",
    "4. Importing libraries and dataset\n",
    "5. Exploratory Data Analysis\n",
    "    - Which gem are mostly used in the products?\n",
    "    - Which metal mostly used in Cartier Jewellery?\n",
    "    - How much is the mean of Cartier jewellery as metal type?\n",
    "    - How much the mean price for every metal type in cartier jewels?\n",
    "    - How many gems in every jewels category?\n",
    "    - How much the gem price in every jewels category?\n",
    "    - Which gem is the most expensive?\n",
    "6. Classification Model\n",
    "    - KNN Classifier\n",
    "    - Logistic Regression\n",
    "    - Random Forest Classifier\n",
    "    - Support Vector Machine Classifier\n",
    "    - XgBoost Classifier\n",
    "    - Gaussian Naive Bayes\n",
    "    - Decision Tree Classifier\n",
    "7. Model Comparison\n",
    "8. Conclusion\n",
    "    \n",
    "\n",
    "### Abstract\n",
    "Cartier International SNC, or simply Cartier (/ˈkɑːrtieɪ/; French: [kaʁtje]), is a French luxury goods conglomerate which designs, manufactures, distributes, and sells jewellery and watches. Founded by Louis-François Cartier in Paris in 1847, the company remained under family control until 1964. The company maintains its headquarters in Paris, although it is a wholly owned subsidiary of the Swiss Richemont Group. Cartier operates more than 200 stores in 125 countries, with three Temples (Historical Maisons) in London, New York, and Paris.\n",
    "\n",
    "Cartier is regarded as one of the most prestigious jewellery manufacturers in the world. In 2018, it is ranked by Forbes as the world's 59th most valuable brand. Cartier has a long history of sales to royalty. King Edward VII of Great Britain referred to Cartier as \"the jeweller of kings and the king of jewellers.\" For his coronation in 1902, Edward VII ordered 27 tiaras and issued a royal warrant to Cartier in 1904. Similar warrants soon followed from the courts of Spain, Portugal, Russia and the House of Orleans.\n",
    "\n",
    "### Goal\n",
    "The goal of this project is to make a classification model, which will classify the jewelries based on the various features."
   ]
  },
  {
   "cell_type": "markdown",
   "metadata": {},
   "source": [
    "### Importing the required libraries and dataset"
   ]
  },
  {
   "cell_type": "code",
   "execution_count": 1,
   "metadata": {
    "_cell_guid": "79c7e3d0-c299-4dcb-8224-4455121ee9b0",
    "_uuid": "d629ff2d2480ee46fbb7e2d37f6b5fab8052498a"
   },
   "outputs": [],
   "source": [
    "import pandas as pd\n",
    "import seaborn as sns\n",
    "import matplotlib.pyplot as plt"
   ]
  },
  {
   "cell_type": "code",
   "execution_count": 2,
   "metadata": {},
   "outputs": [],
   "source": [
    "cartier = pd.read_csv('D:\\ML\\Cartier Jewelry Classification\\Dataset\\cartier_catalog.csv')"
   ]
  },
  {
   "cell_type": "code",
   "execution_count": 3,
   "metadata": {},
   "outputs": [
    {
     "data": {
      "text/html": [
       "<div>\n",
       "<style scoped>\n",
       "    .dataframe tbody tr th:only-of-type {\n",
       "        vertical-align: middle;\n",
       "    }\n",
       "\n",
       "    .dataframe tbody tr th {\n",
       "        vertical-align: top;\n",
       "    }\n",
       "\n",
       "    .dataframe thead th {\n",
       "        text-align: right;\n",
       "    }\n",
       "</style>\n",
       "<table border=\"1\" class=\"dataframe\">\n",
       "  <thead>\n",
       "    <tr style=\"text-align: right;\">\n",
       "      <th></th>\n",
       "      <th>ref</th>\n",
       "      <th>categorie</th>\n",
       "      <th>title</th>\n",
       "      <th>price</th>\n",
       "      <th>tags</th>\n",
       "      <th>description</th>\n",
       "      <th>image</th>\n",
       "    </tr>\n",
       "  </thead>\n",
       "  <tbody>\n",
       "    <tr>\n",
       "      <th>0</th>\n",
       "      <td>B4084600</td>\n",
       "      <td>rings</td>\n",
       "      <td>Love ring</td>\n",
       "      <td>1650.0</td>\n",
       "      <td>yellow gold</td>\n",
       "      <td>Love ring, 18K yellow gold. Width: 5.5mm.</td>\n",
       "      <td>/content/dam/rcq/car/58/71/74/587174.png</td>\n",
       "    </tr>\n",
       "    <tr>\n",
       "      <th>1</th>\n",
       "      <td>B4084900</td>\n",
       "      <td>rings</td>\n",
       "      <td>Love ring</td>\n",
       "      <td>3650.0</td>\n",
       "      <td>platinum</td>\n",
       "      <td>Love ring, 950/1000 platinum. Width: 5.5mm.</td>\n",
       "      <td>/content/dam/rcq/car/19/43/98/1/1943981.png</td>\n",
       "    </tr>\n",
       "    <tr>\n",
       "      <th>2</th>\n",
       "      <td>B4084800</td>\n",
       "      <td>rings</td>\n",
       "      <td>Love ring</td>\n",
       "      <td>1650.0</td>\n",
       "      <td>pink gold</td>\n",
       "      <td>Love ring, 18K rose gold. Width: 5.5mm.</td>\n",
       "      <td>/content/dam/rcq/car/10/28/64/0/1028640.png</td>\n",
       "    </tr>\n",
       "    <tr>\n",
       "      <th>3</th>\n",
       "      <td>B4084700</td>\n",
       "      <td>rings</td>\n",
       "      <td>Love ring</td>\n",
       "      <td>1770.0</td>\n",
       "      <td>white gold</td>\n",
       "      <td>Love ring, 18K white gold. Width: 5.5mm.</td>\n",
       "      <td>/content/dam/rcq/car/10/28/63/6/1028636.png</td>\n",
       "    </tr>\n",
       "    <tr>\n",
       "      <th>4</th>\n",
       "      <td>B4085000</td>\n",
       "      <td>rings</td>\n",
       "      <td>Love wedding band</td>\n",
       "      <td>1070.0</td>\n",
       "      <td>yellow gold</td>\n",
       "      <td>Love wedding band, 18K yellow gold. Width: 3.6mm.</td>\n",
       "      <td>/content/dam/rcq/car/59/18/04/591804.png</td>\n",
       "    </tr>\n",
       "  </tbody>\n",
       "</table>\n",
       "</div>"
      ],
      "text/plain": [
       "         ref categorie              title   price         tags  \\\n",
       "0   B4084600     rings          Love ring  1650.0  yellow gold   \n",
       "1   B4084900     rings          Love ring  3650.0     platinum   \n",
       "2   B4084800     rings          Love ring  1650.0    pink gold   \n",
       "3   B4084700     rings          Love ring  1770.0   white gold   \n",
       "4   B4085000     rings  Love wedding band  1070.0  yellow gold   \n",
       "\n",
       "                                         description  \\\n",
       "0          Love ring, 18K yellow gold. Width: 5.5mm.   \n",
       "1        Love ring, 950/1000 platinum. Width: 5.5mm.   \n",
       "2            Love ring, 18K rose gold. Width: 5.5mm.   \n",
       "3           Love ring, 18K white gold. Width: 5.5mm.   \n",
       "4  Love wedding band, 18K yellow gold. Width: 3.6mm.   \n",
       "\n",
       "                                         image  \n",
       "0     /content/dam/rcq/car/58/71/74/587174.png  \n",
       "1  /content/dam/rcq/car/19/43/98/1/1943981.png  \n",
       "2  /content/dam/rcq/car/10/28/64/0/1028640.png  \n",
       "3  /content/dam/rcq/car/10/28/63/6/1028636.png  \n",
       "4     /content/dam/rcq/car/59/18/04/591804.png  "
      ]
     },
     "execution_count": 3,
     "metadata": {},
     "output_type": "execute_result"
    }
   ],
   "source": [
    "cartier.head(5)"
   ]
  },
  {
   "cell_type": "code",
   "execution_count": 4,
   "metadata": {},
   "outputs": [],
   "source": [
    "# Define tag_splitter // splits column  \n",
    "def tag_spiliter(dataframe , col_name , delimiter , metal , first_gem , second_gem , third_gem , foruth_gem):\n",
    "    dataframe['str_split'] = dataframe[col_name].str.split(delimiter)\n",
    "    dataframe[metal] = dataframe.str_split.str.get(0).str.strip()\n",
    "    dataframe[first_gem] = dataframe.str_split.str.get(1).str.strip()\n",
    "    dataframe[second_gem] = dataframe.str_split.str.get(2).str.strip()\n",
    "    dataframe[third_gem] = dataframe.str_split.str.get(3).str.strip()\n",
    "    dataframe[foruth_gem] = dataframe.str_split.str.get(4).str.strip()\n",
    "    dataframe.fillna(0 , inplace=True)\n",
    "    del dataframe['str_split']"
   ]
  },
  {
   "cell_type": "code",
   "execution_count": 5,
   "metadata": {},
   "outputs": [],
   "source": [
    "# Recall tag_splitter\n",
    "tag_spiliter(cartier , 'tags' , ',' , 'metal' , 'gem' , 'second_gem' , 'third_gem' , 'foruth_gem')"
   ]
  },
  {
   "cell_type": "markdown",
   "metadata": {},
   "source": [
    "*******************************\n",
    "## A. Exploratory Data Analysis\n",
    "Exploratory Data Analysis - does this for Machine Learning enthusiast. It is a way of visualizing, summarizing and interpreting the information that is hidden in rows and column format."
   ]
  },
  {
   "cell_type": "markdown",
   "metadata": {},
   "source": [
    "### 1. Which gem are mostly used in the products?"
   ]
  },
  {
   "cell_type": "code",
   "execution_count": 6,
   "metadata": {},
   "outputs": [],
   "source": [
    "# Drop redundant columns\n",
    "cartier.drop(['ref' , 'image' , 'tags' , 'title' , 'description'] , axis  = 1 , inplace=True)\n",
    "gems = pd.concat([cartier[\"gem\"],cartier[\"second_gem\"],cartier[\"third_gem\"],cartier[\"foruth_gem\"]], axis= 0)\n",
    "gems_values = gems.value_counts()[1:].to_frame()\n",
    "gems_values.reset_index(inplace=True)\n",
    "gems_values.columns = ['gem_type' , 'count']"
   ]
  },
  {
   "cell_type": "code",
   "execution_count": 7,
   "metadata": {},
   "outputs": [
    {
     "data": {
      "image/png": "[encoded data removed]",
      "text/plain": [
       "<Figure size 1080x360 with 1 Axes>"
      ]
     },
     "metadata": {
      "needs_background": "light"
     },
     "output_type": "display_data"
    }
   ],
   "source": [
    "plt.figure(figsize=(15, 5))\n",
    "sns.barplot(x= 'gem_type', y= \"count\", data= gems_values,\n",
    "            palette= sns.cubehelix_palette(len(gems_values.gem_type), start=.5, rot=-.75, reverse= True))\n",
    "plt.xlabel(\"Gems Type\")\n",
    "plt.ylabel(\"Count\")\n",
    "plt.title(\"Count of Gems\")\n",
    "plt.xticks(rotation= 90)\n",
    "plt.show()"
   ]
  },
  {
   "cell_type": "markdown",
   "metadata": {},
   "source": [
    "**Observation :** \n",
    "A glance at the above figure reveals to us that diamonds in all products are the most used gem, about **66 percent** of the product have diamonds in them, more than any other gems, Its most popular gem. onyx and emeralds are into the next ranks. "
   ]
  },
  {
   "cell_type": "code",
   "execution_count": 8,
   "metadata": {},
   "outputs": [],
   "source": [
    "# Dictionary for costum color palette \n",
    "color_dict = {'yellow gold': \"#fcc72d\", \n",
    "              'platinum': \"#e5e4e2\", \n",
    "              'pink gold': \"#e9cdd0\", \n",
    "              'white gold': \"#f9f3d1\", \n",
    "              'non-rhodiumized white gold': \"#C0C0C0\"}"
   ]
  },
  {
   "cell_type": "markdown",
   "metadata": {},
   "source": [
    "### 2. Which metal mostly used in Cartier Jewellery?"
   ]
  },
  {
   "cell_type": "code",
   "execution_count": 9,
   "metadata": {},
   "outputs": [],
   "source": [
    "cartier_category_metal = cartier.groupby('categorie')['metal'].value_counts().to_frame()\n",
    "cartier_category_metal.columns = ['count']\n",
    "cartier_category_metal.reset_index(level = [0 , 1] , inplace=True)"
   ]
  },
  {
   "cell_type": "code",
   "execution_count": 10,
   "metadata": {},
   "outputs": [
    {
     "data": {
      "image/png": "[encoded data removed]",
      "text/plain": [
       "<Figure size 1080x504 with 1 Axes>"
      ]
     },
     "metadata": {
      "needs_background": "light"
     },
     "output_type": "display_data"
    }
   ],
   "source": [
    "plt.figure(figsize=(15, 7))\n",
    "sns.barplot(x= \"categorie\", y= \"count\", hue= \"metal\", data= cartier_category_metal, \n",
    "            palette= color_dict)\n",
    "plt.xlabel(\"Jewels Type\")\n",
    "plt.ylabel(\"Counts\")\n",
    "plt.legend(loc= \"upper left\")\n",
    "plt.show()"
   ]
  },
  {
   "cell_type": "markdown",
   "metadata": {},
   "source": [
    "**Observation :** \n",
    "Jewels type include 4 category: **rings, earring, necklaces and bracelets** \\\n",
    "Ranks of metals in every category are the same and equal: 1.White Gold 2.Pink Gold 3.Yellow Gold 4.Platinum 5.Non-Rhodiumized White Gold"
   ]
  },
  {
   "cell_type": "markdown",
   "metadata": {},
   "source": [
    "### 3. How much is the mean of Cartier jewellery as metal type?"
   ]
  },
  {
   "cell_type": "code",
   "execution_count": 11,
   "metadata": {},
   "outputs": [],
   "source": [
    "cartier_gp1 = cartier.groupby([\"categorie\", \"metal\"])[\"price\"].mean().round(2).to_frame()\n",
    "cartier_gp1 = cartier_gp1.reset_index()"
   ]
  },
  {
   "cell_type": "code",
   "execution_count": 12,
   "metadata": {},
   "outputs": [
    {
     "data": {
      "image/png": "[encoded data removed]",
      "text/plain": [
       "<Figure size 1080x504 with 1 Axes>"
      ]
     },
     "metadata": {
      "needs_background": "light"
     },
     "output_type": "display_data"
    }
   ],
   "source": [
    "plt.figure(figsize=(15, 7))\n",
    "sns.barplot(x= 'categorie', y= 'price', hue= 'metal', data= cartier_gp1 , palette = color_dict)\n",
    "plt.xlabel('Jewels Type')\n",
    "plt.ylabel('Mean Price in $')\n",
    "plt.legend(loc= \"upper left\")\n",
    "plt.show()"
   ]
  },
  {
   "cell_type": "markdown",
   "metadata": {},
   "source": [
    "**Observation :** In every category **Platinum** in most valuable metal with a huge difference in price as $. After that White Gold have a second place but other metals are close in price for every category"
   ]
  },
  {
   "cell_type": "markdown",
   "metadata": {},
   "source": [
    "### 4. How much the mean price for every metal type in cartier jewels?"
   ]
  },
  {
   "cell_type": "code",
   "execution_count": 13,
   "metadata": {},
   "outputs": [],
   "source": [
    "cartier_gp2 = cartier.groupby(\"metal\")[\"price\"].mean().round(2).to_frame()\n",
    "cartier_gp2.reset_index(inplace=True)"
   ]
  },
  {
   "cell_type": "code",
   "execution_count": 14,
   "metadata": {},
   "outputs": [
    {
     "data": {
      "image/png": "[encoded data removed]",
      "text/plain": [
       "<Figure size 1080x504 with 1 Axes>"
      ]
     },
     "metadata": {
      "needs_background": "light"
     },
     "output_type": "display_data"
    }
   ],
   "source": [
    "plt.figure(figsize=(15, 7))\n",
    "sns.barplot(x= \"metal\" , y = 'price', data=cartier_gp2 , palette = color_dict)\n",
    "plt.xlabel('Metal')\n",
    "plt.ylabel('Mean Price in $')\n",
    "plt.show()"
   ]
  },
  {
   "cell_type": "markdown",
   "metadata": {},
   "source": [
    "**Observation :** As we saw earlier Platinium is the most valuable metal that the Cartier used in jewels. The mean price of Platinium jewels is more than **40000** Dollars after that white metal is second. \"Yellow Gold\" and \"Non-Rhodiumized White Gold\" are about equal in mean price, in last is pink gold with mean of **15000** Dollars that is about one of third of Platinium"
   ]
  },
  {
   "cell_type": "markdown",
   "metadata": {},
   "source": [
    "### 5. How many gems in every jewels category?"
   ]
  },
  {
   "cell_type": "code",
   "execution_count": 15,
   "metadata": {},
   "outputs": [],
   "source": [
    "cartier_gp_gem = cartier.groupby('categorie')['gem'].value_counts().to_frame()\n",
    "cartier_gp_gem.columns = ['count']\n",
    "cartier_gp_gem.reset_index(level = [0 , 1] , inplace=True)\n",
    "cartier_gp_gem = cartier_gp_gem[cartier_gp_gem[\"gem\"] != 0]"
   ]
  },
  {
   "cell_type": "code",
   "execution_count": 16,
   "metadata": {},
   "outputs": [
    {
     "data": {
      "image/png": "[encoded data removed]",
      "text/plain": [
       "<Figure size 1080x504 with 1 Axes>"
      ]
     },
     "metadata": {
      "needs_background": "light"
     },
     "output_type": "display_data"
    }
   ],
   "source": [
    "plt.figure(figsize=(15, 7))\n",
    "sns.barplot(x= 'categorie', y= 'count', hue= 'gem', data= cartier_gp_gem , palette = sns.color_palette(\"Set2\"))\n",
    "plt.xlabel('Jewels Type')\n",
    "plt.ylabel('Counts')\n",
    "plt.legend(ncol=4, loc= 'upper left')\n",
    "plt.show()"
   ]
  },
  {
   "cell_type": "markdown",
   "metadata": {},
   "source": [
    "**Observation :** \n",
    "In all categories, **diamond** is the most popular gem in the making of jewelry.  Exceedingly over 100 ring types include **diamonds**, in most cases more than one piece of **diamond**. This also rules for other categories of jewelry such as **earrings**, **necklaces**, and **bracelets**. Variety of the gems used in **rings** and **bracelets** are more than **earrings** and **necklaces**. Furthermore, **Sapphires** are also a popular gem used in **ring** production."
   ]
  },
  {
   "cell_type": "markdown",
   "metadata": {},
   "source": [
    "### 6. How much the gem price in every jewels category?"
   ]
  },
  {
   "cell_type": "code",
   "execution_count": 17,
   "metadata": {},
   "outputs": [],
   "source": [
    "cartier_gp1_gem = cartier.groupby([\"categorie\", \"gem\"])[\"price\"].mean().round(2).to_frame()\n",
    "cartier_gp1_gem = cartier_gp1_gem.reset_index()\n",
    "cartier_gp1_gem = cartier_gp1_gem[cartier_gp1_gem[\"gem\"] != 0]"
   ]
  },
  {
   "cell_type": "code",
   "execution_count": 18,
   "metadata": {},
   "outputs": [
    {
     "data": {
      "image/png": "[encoded data removed]",
      "text/plain": [
       "<Figure size 1080x504 with 1 Axes>"
      ]
     },
     "metadata": {
      "needs_background": "light"
     },
     "output_type": "display_data"
    }
   ],
   "source": [
    "plt.figure(figsize=(15, 7))\n",
    "sns.barplot(x= 'categorie', y= 'price', hue= 'gem', data= cartier_gp1_gem , palette = sns.color_palette(\"Set2\"))\n",
    "plt.xlabel('Jewels Type')\n",
    "plt.ylabel('Mean Price in $')\n",
    "plt.legend(ncol=4, loc= 'upper left')\n",
    "plt.show()"
   ]
  },
  {
   "cell_type": "markdown",
   "metadata": {},
   "source": [
    "**Observation :** Earrings, Necklaces, and Rings with Rubies(gem) has a huge difference in the price of jewelry, but Emeralds(gem) in Bracelets shows the is a key factor in price determination. A closer look at necklaces reveals us that Tsavorite garnet has third place in price."
   ]
  },
  {
   "cell_type": "markdown",
   "metadata": {},
   "source": [
    "### 7. Which gem is the most expensive?"
   ]
  },
  {
   "cell_type": "code",
   "execution_count": 19,
   "metadata": {},
   "outputs": [],
   "source": [
    "cartier_gp2_gem = cartier.groupby(\"gem\")[\"price\"].mean().round(2).to_frame()\n",
    "cartier_gp2_gem.reset_index(inplace=True)\n",
    "cartier_gp2_gem = cartier_gp2_gem[(cartier_gp2_gem['gem'] != 'white gold') &\n",
    "                                  (cartier_gp2_gem['gem'] != 'yellow gold') & \n",
    "                                  (cartier_gp2_gem['gem'] != 0)]"
   ]
  },
  {
   "cell_type": "code",
   "execution_count": 20,
   "metadata": {},
   "outputs": [
    {
     "data": {
      "image/png": "[encoded data removed]",
      "text/plain": [
       "<Figure size 1080x576 with 1 Axes>"
      ]
     },
     "metadata": {
      "needs_background": "light"
     },
     "output_type": "display_data"
    }
   ],
   "source": [
    "plt.figure(figsize=(15, 8))\n",
    "sns.barplot(x= 'gem' , y = 'price', data=cartier_gp2_gem ,  palette = sns.color_palette(\"Set2\"))\n",
    "plt.xlabel('Gem Type')\n",
    "plt.ylabel('Mean Price in $')\n",
    "plt.xticks(rotation=90)\n",
    "plt.show()"
   ]
  },
  {
   "cell_type": "markdown",
   "metadata": {},
   "source": [
    "**Observation :** This plot shows us the mean price of products with gems on them\n",
    "As we could have predicted products that have Rubies on them are the most expensive jewelry in Cartier products. the next ranks belong to Tsavorite garnets, Emeralds, and the Chrysoprase. The middle gems on the above figure are equal in mean price "
   ]
  },
  {
   "cell_type": "markdown",
   "metadata": {},
   "source": [
    "*******************************\n",
    "## B. Classification Models\n",
    "The Classification algorithm is a Supervised Learning technique that is used to identify the category of new observations on the basis of training data. In Classification, a program learns from the given dataset or observations and then classifies new observation into a number of classes or groups.\n",
    "\n",
    "Here after visualizing the dataset I have decided to go with these models -\n",
    "* **KNN algorithm** : K-Nearest Neighbour is one of the simplest Machine Learning algorithms based on Supervised Learning technique. K-NN algorithm assumes the similarity between the new case/data and available cases and put the new case into the category that is most similar to the available categories. K-NN algorithm stores all the available data and classifies a new data point based on the similarity. This means when new data appears then it can be easily classified into a well suite category by using K- NN algorithm.\n",
    "\n",
    "\n",
    "* **Logistic Regression** : Logistic regression is a statistical model that in its basic form uses a logistic function to model a binary dependent variable, although many more complex extensions exist. In regression analysis, logistic regression (or logit regression) is estimating the parameters of a logistic model (a form of binary regression).\n",
    "\n",
    "\n",
    "* **Random Forest Classifier** : Random Forest is a popular machine learning algorithm that belongs to the supervised learning technique. It can be used for both Classification and Regression problems in ML. It is based on the concept of ensemble learning, which is a process of combining multiple classifiers to solve a complex problem and to improve the performance of the model.\n",
    "\n",
    "\n",
    "* **Support Vector Machine Algorithm** : Support Vector Machine or SVM is one of the most popular Supervised Learning algorithms, which is used for Classification as well as Regression problems. However, primarily, it is used for Classification problems in Machine Learning. The goal of the SVM algorithm is to create the best line or decision boundary that can segregate n-dimensional space into classes so that we can easily put the new data point in the correct category in the future. This best decision boundary is called a hyperplane.\n",
    " \n",
    "\n",
    "* **XgBoost Classifier Algortihm** : XGBoost provides a wrapper class to allow models to be treated like classifiers or regressors in the scikit-learn framework. The XGBoost model for classification is called XGBClassifier. We can create and and fit it to our training dataset. Models are fit using the scikit-learn API and the model.\n",
    "\n",
    "\n",
    "* **Decision Tree Classifier** : Decision Tree is a Supervised learning technique that can be used for both classification and Regression problems, but mostly it is preferred for solving Classification problems. It is a tree-structured classifier, where internal nodes represent the features of a dataset, branches represent the decision rules and each leaf node represents the outcome.\n",
    "\n",
    "\n",
    "* **Gausian NB** : This method is expected to be called several times consecutively on different chunks of a dataset so as to implement out-of-core or online learning. This is especially useful when the whole dataset is too big to fit in memory at once. This method has some performance and numerical stability overhead, hence it is better to call partial_fit on chunks of data that are as large as possible (as long as fitting in the memory budget) to hide the overhead.\n",
    "\n",
    "Let's deploy the models!!\n",
    "\n",
    "Now, as we have done all the required visualisations and data wrangling/cleaning operations, we shall focus on applying numerous ML algorithms to see if we can predict the placement status of a student accurately."
   ]
  },
  {
   "cell_type": "code",
   "execution_count": 21,
   "metadata": {},
   "outputs": [],
   "source": [
    "ds = pd.read_csv('D:\\ML\\Cartier Jewelry Classification\\Dataset\\cartier_catalog.csv')\n"
   ]
  },
  {
   "cell_type": "code",
   "execution_count": 22,
   "metadata": {},
   "outputs": [
    {
     "data": {
      "text/html": [
       "<div>\n",
       "<style scoped>\n",
       "    .dataframe tbody tr th:only-of-type {\n",
       "        vertical-align: middle;\n",
       "    }\n",
       "\n",
       "    .dataframe tbody tr th {\n",
       "        vertical-align: top;\n",
       "    }\n",
       "\n",
       "    .dataframe thead th {\n",
       "        text-align: right;\n",
       "    }\n",
       "</style>\n",
       "<table border=\"1\" class=\"dataframe\">\n",
       "  <thead>\n",
       "    <tr style=\"text-align: right;\">\n",
       "      <th></th>\n",
       "      <th>categorie</th>\n",
       "      <th>title</th>\n",
       "      <th>price</th>\n",
       "      <th>tags</th>\n",
       "    </tr>\n",
       "  </thead>\n",
       "  <tbody>\n",
       "    <tr>\n",
       "      <th>0</th>\n",
       "      <td>rings</td>\n",
       "      <td>Love ring</td>\n",
       "      <td>1650.0</td>\n",
       "      <td>yellow gold</td>\n",
       "    </tr>\n",
       "    <tr>\n",
       "      <th>1</th>\n",
       "      <td>rings</td>\n",
       "      <td>Love ring</td>\n",
       "      <td>3650.0</td>\n",
       "      <td>platinum</td>\n",
       "    </tr>\n",
       "    <tr>\n",
       "      <th>2</th>\n",
       "      <td>rings</td>\n",
       "      <td>Love ring</td>\n",
       "      <td>1650.0</td>\n",
       "      <td>pink gold</td>\n",
       "    </tr>\n",
       "    <tr>\n",
       "      <th>3</th>\n",
       "      <td>rings</td>\n",
       "      <td>Love ring</td>\n",
       "      <td>1770.0</td>\n",
       "      <td>white gold</td>\n",
       "    </tr>\n",
       "    <tr>\n",
       "      <th>4</th>\n",
       "      <td>rings</td>\n",
       "      <td>Love wedding band</td>\n",
       "      <td>1070.0</td>\n",
       "      <td>yellow gold</td>\n",
       "    </tr>\n",
       "    <tr>\n",
       "      <th>...</th>\n",
       "      <td>...</td>\n",
       "      <td>...</td>\n",
       "      <td>...</td>\n",
       "      <td>...</td>\n",
       "    </tr>\n",
       "    <tr>\n",
       "      <th>687</th>\n",
       "      <td>earrings</td>\n",
       "      <td>Clash de Cartier earrings Small Model</td>\n",
       "      <td>7500.0</td>\n",
       "      <td>pink gold</td>\n",
       "    </tr>\n",
       "    <tr>\n",
       "      <th>688</th>\n",
       "      <td>earrings</td>\n",
       "      <td>Clash de Cartier earrings Small Model</td>\n",
       "      <td>3900.0</td>\n",
       "      <td>pink gold</td>\n",
       "    </tr>\n",
       "    <tr>\n",
       "      <th>689</th>\n",
       "      <td>earrings</td>\n",
       "      <td>Clash de Cartier earrings Diamonds</td>\n",
       "      <td>13700.0</td>\n",
       "      <td>pink gold, diamonds</td>\n",
       "    </tr>\n",
       "    <tr>\n",
       "      <th>690</th>\n",
       "      <td>earrings</td>\n",
       "      <td>Clash de Cartier earring Large Model</td>\n",
       "      <td>13700.0</td>\n",
       "      <td>pink gold, amazonite</td>\n",
       "    </tr>\n",
       "    <tr>\n",
       "      <th>691</th>\n",
       "      <td>earrings</td>\n",
       "      <td>Clash de Cartier earrings XL Model</td>\n",
       "      <td>12500.0</td>\n",
       "      <td>yellow gold, coral</td>\n",
       "    </tr>\n",
       "  </tbody>\n",
       "</table>\n",
       "<p>692 rows × 4 columns</p>\n",
       "</div>"
      ],
      "text/plain": [
       "    categorie                                  title    price  \\\n",
       "0       rings                              Love ring   1650.0   \n",
       "1       rings                              Love ring   3650.0   \n",
       "2       rings                              Love ring   1650.0   \n",
       "3       rings                              Love ring   1770.0   \n",
       "4       rings                      Love wedding band   1070.0   \n",
       "..        ...                                    ...      ...   \n",
       "687  earrings  Clash de Cartier earrings Small Model   7500.0   \n",
       "688  earrings  Clash de Cartier earrings Small Model   3900.0   \n",
       "689  earrings     Clash de Cartier earrings Diamonds  13700.0   \n",
       "690  earrings   Clash de Cartier earring Large Model  13700.0   \n",
       "691  earrings     Clash de Cartier earrings XL Model  12500.0   \n",
       "\n",
       "                     tags  \n",
       "0             yellow gold  \n",
       "1                platinum  \n",
       "2               pink gold  \n",
       "3              white gold  \n",
       "4             yellow gold  \n",
       "..                    ...  \n",
       "687             pink gold  \n",
       "688             pink gold  \n",
       "689   pink gold, diamonds  \n",
       "690  pink gold, amazonite  \n",
       "691    yellow gold, coral  \n",
       "\n",
       "[692 rows x 4 columns]"
      ]
     },
     "execution_count": 22,
     "metadata": {},
     "output_type": "execute_result"
    }
   ],
   "source": [
    "ds.drop(['ref','description','image'], axis = 1, inplace=True)\n",
    "ds"
   ]
  },
  {
   "cell_type": "markdown",
   "metadata": {},
   "source": [
    "**Imposing Label Encoder**"
   ]
  },
  {
   "cell_type": "code",
   "execution_count": 23,
   "metadata": {},
   "outputs": [
    {
     "data": {
      "text/html": [
       "<div>\n",
       "<style scoped>\n",
       "    .dataframe tbody tr th:only-of-type {\n",
       "        vertical-align: middle;\n",
       "    }\n",
       "\n",
       "    .dataframe tbody tr th {\n",
       "        vertical-align: top;\n",
       "    }\n",
       "\n",
       "    .dataframe thead th {\n",
       "        text-align: right;\n",
       "    }\n",
       "</style>\n",
       "<table border=\"1\" class=\"dataframe\">\n",
       "  <thead>\n",
       "    <tr style=\"text-align: right;\">\n",
       "      <th></th>\n",
       "      <th>categorie</th>\n",
       "      <th>title</th>\n",
       "      <th>price</th>\n",
       "      <th>tags</th>\n",
       "      <th>categorie_n</th>\n",
       "      <th>title_n</th>\n",
       "      <th>tags_n</th>\n",
       "    </tr>\n",
       "  </thead>\n",
       "  <tbody>\n",
       "    <tr>\n",
       "      <th>0</th>\n",
       "      <td>rings</td>\n",
       "      <td>Love ring</td>\n",
       "      <td>1650.0</td>\n",
       "      <td>yellow gold</td>\n",
       "      <td>3</td>\n",
       "      <td>107</td>\n",
       "      <td>71</td>\n",
       "    </tr>\n",
       "    <tr>\n",
       "      <th>1</th>\n",
       "      <td>rings</td>\n",
       "      <td>Love ring</td>\n",
       "      <td>3650.0</td>\n",
       "      <td>platinum</td>\n",
       "      <td>3</td>\n",
       "      <td>107</td>\n",
       "      <td>30</td>\n",
       "    </tr>\n",
       "    <tr>\n",
       "      <th>2</th>\n",
       "      <td>rings</td>\n",
       "      <td>Love ring</td>\n",
       "      <td>1650.0</td>\n",
       "      <td>pink gold</td>\n",
       "      <td>3</td>\n",
       "      <td>107</td>\n",
       "      <td>1</td>\n",
       "    </tr>\n",
       "    <tr>\n",
       "      <th>3</th>\n",
       "      <td>rings</td>\n",
       "      <td>Love ring</td>\n",
       "      <td>1770.0</td>\n",
       "      <td>white gold</td>\n",
       "      <td>3</td>\n",
       "      <td>107</td>\n",
       "      <td>39</td>\n",
       "    </tr>\n",
       "    <tr>\n",
       "      <th>4</th>\n",
       "      <td>rings</td>\n",
       "      <td>Love wedding band</td>\n",
       "      <td>1070.0</td>\n",
       "      <td>yellow gold</td>\n",
       "      <td>3</td>\n",
       "      <td>115</td>\n",
       "      <td>71</td>\n",
       "    </tr>\n",
       "    <tr>\n",
       "      <th>...</th>\n",
       "      <td>...</td>\n",
       "      <td>...</td>\n",
       "      <td>...</td>\n",
       "      <td>...</td>\n",
       "      <td>...</td>\n",
       "      <td>...</td>\n",
       "      <td>...</td>\n",
       "    </tr>\n",
       "    <tr>\n",
       "      <th>687</th>\n",
       "      <td>earrings</td>\n",
       "      <td>Clash de Cartier earrings Small Model</td>\n",
       "      <td>7500.0</td>\n",
       "      <td>pink gold</td>\n",
       "      <td>1</td>\n",
       "      <td>31</td>\n",
       "      <td>1</td>\n",
       "    </tr>\n",
       "    <tr>\n",
       "      <th>688</th>\n",
       "      <td>earrings</td>\n",
       "      <td>Clash de Cartier earrings Small Model</td>\n",
       "      <td>3900.0</td>\n",
       "      <td>pink gold</td>\n",
       "      <td>1</td>\n",
       "      <td>31</td>\n",
       "      <td>1</td>\n",
       "    </tr>\n",
       "    <tr>\n",
       "      <th>689</th>\n",
       "      <td>earrings</td>\n",
       "      <td>Clash de Cartier earrings Diamonds</td>\n",
       "      <td>13700.0</td>\n",
       "      <td>pink gold, diamonds</td>\n",
       "      <td>1</td>\n",
       "      <td>30</td>\n",
       "      <td>9</td>\n",
       "    </tr>\n",
       "    <tr>\n",
       "      <th>690</th>\n",
       "      <td>earrings</td>\n",
       "      <td>Clash de Cartier earring Large Model</td>\n",
       "      <td>13700.0</td>\n",
       "      <td>pink gold, amazonite</td>\n",
       "      <td>1</td>\n",
       "      <td>29</td>\n",
       "      <td>2</td>\n",
       "    </tr>\n",
       "    <tr>\n",
       "      <th>691</th>\n",
       "      <td>earrings</td>\n",
       "      <td>Clash de Cartier earrings XL Model</td>\n",
       "      <td>12500.0</td>\n",
       "      <td>yellow gold, coral</td>\n",
       "      <td>1</td>\n",
       "      <td>32</td>\n",
       "      <td>78</td>\n",
       "    </tr>\n",
       "  </tbody>\n",
       "</table>\n",
       "<p>692 rows × 7 columns</p>\n",
       "</div>"
      ],
      "text/plain": [
       "    categorie                                  title    price  \\\n",
       "0       rings                              Love ring   1650.0   \n",
       "1       rings                              Love ring   3650.0   \n",
       "2       rings                              Love ring   1650.0   \n",
       "3       rings                              Love ring   1770.0   \n",
       "4       rings                      Love wedding band   1070.0   \n",
       "..        ...                                    ...      ...   \n",
       "687  earrings  Clash de Cartier earrings Small Model   7500.0   \n",
       "688  earrings  Clash de Cartier earrings Small Model   3900.0   \n",
       "689  earrings     Clash de Cartier earrings Diamonds  13700.0   \n",
       "690  earrings   Clash de Cartier earring Large Model  13700.0   \n",
       "691  earrings     Clash de Cartier earrings XL Model  12500.0   \n",
       "\n",
       "                     tags  categorie_n  title_n  tags_n  \n",
       "0             yellow gold            3      107      71  \n",
       "1                platinum            3      107      30  \n",
       "2               pink gold            3      107       1  \n",
       "3              white gold            3      107      39  \n",
       "4             yellow gold            3      115      71  \n",
       "..                    ...          ...      ...     ...  \n",
       "687             pink gold            1       31       1  \n",
       "688             pink gold            1       31       1  \n",
       "689   pink gold, diamonds            1       30       9  \n",
       "690  pink gold, amazonite            1       29       2  \n",
       "691    yellow gold, coral            1       32      78  \n",
       "\n",
       "[692 rows x 7 columns]"
      ]
     },
     "execution_count": 23,
     "metadata": {},
     "output_type": "execute_result"
    }
   ],
   "source": [
    "# Converting strings columns into integar\n",
    "\n",
    "from sklearn.preprocessing import LabelEncoder\n",
    "\n",
    "categorie = LabelEncoder()\n",
    "title = LabelEncoder()\n",
    "tags = LabelEncoder()\n",
    "\n",
    "ds['categorie_n'] = categorie.fit_transform(ds['categorie'])\n",
    "ds['title_n'] = title.fit_transform(ds['title'])\n",
    "ds['tags_n'] = tags.fit_transform(ds['tags'])\n",
    "\n",
    "ds"
   ]
  },
  {
   "cell_type": "code",
   "execution_count": 24,
   "metadata": {},
   "outputs": [
    {
     "data": {
      "text/html": [
       "<div>\n",
       "<style scoped>\n",
       "    .dataframe tbody tr th:only-of-type {\n",
       "        vertical-align: middle;\n",
       "    }\n",
       "\n",
       "    .dataframe tbody tr th {\n",
       "        vertical-align: top;\n",
       "    }\n",
       "\n",
       "    .dataframe thead th {\n",
       "        text-align: right;\n",
       "    }\n",
       "</style>\n",
       "<table border=\"1\" class=\"dataframe\">\n",
       "  <thead>\n",
       "    <tr style=\"text-align: right;\">\n",
       "      <th></th>\n",
       "      <th>price</th>\n",
       "      <th>categorie_n</th>\n",
       "      <th>title_n</th>\n",
       "      <th>tags_n</th>\n",
       "    </tr>\n",
       "  </thead>\n",
       "  <tbody>\n",
       "    <tr>\n",
       "      <th>0</th>\n",
       "      <td>1650.0</td>\n",
       "      <td>3</td>\n",
       "      <td>107</td>\n",
       "      <td>71</td>\n",
       "    </tr>\n",
       "    <tr>\n",
       "      <th>1</th>\n",
       "      <td>3650.0</td>\n",
       "      <td>3</td>\n",
       "      <td>107</td>\n",
       "      <td>30</td>\n",
       "    </tr>\n",
       "    <tr>\n",
       "      <th>2</th>\n",
       "      <td>1650.0</td>\n",
       "      <td>3</td>\n",
       "      <td>107</td>\n",
       "      <td>1</td>\n",
       "    </tr>\n",
       "    <tr>\n",
       "      <th>3</th>\n",
       "      <td>1770.0</td>\n",
       "      <td>3</td>\n",
       "      <td>107</td>\n",
       "      <td>39</td>\n",
       "    </tr>\n",
       "    <tr>\n",
       "      <th>4</th>\n",
       "      <td>1070.0</td>\n",
       "      <td>3</td>\n",
       "      <td>115</td>\n",
       "      <td>71</td>\n",
       "    </tr>\n",
       "    <tr>\n",
       "      <th>...</th>\n",
       "      <td>...</td>\n",
       "      <td>...</td>\n",
       "      <td>...</td>\n",
       "      <td>...</td>\n",
       "    </tr>\n",
       "    <tr>\n",
       "      <th>687</th>\n",
       "      <td>7500.0</td>\n",
       "      <td>1</td>\n",
       "      <td>31</td>\n",
       "      <td>1</td>\n",
       "    </tr>\n",
       "    <tr>\n",
       "      <th>688</th>\n",
       "      <td>3900.0</td>\n",
       "      <td>1</td>\n",
       "      <td>31</td>\n",
       "      <td>1</td>\n",
       "    </tr>\n",
       "    <tr>\n",
       "      <th>689</th>\n",
       "      <td>13700.0</td>\n",
       "      <td>1</td>\n",
       "      <td>30</td>\n",
       "      <td>9</td>\n",
       "    </tr>\n",
       "    <tr>\n",
       "      <th>690</th>\n",
       "      <td>13700.0</td>\n",
       "      <td>1</td>\n",
       "      <td>29</td>\n",
       "      <td>2</td>\n",
       "    </tr>\n",
       "    <tr>\n",
       "      <th>691</th>\n",
       "      <td>12500.0</td>\n",
       "      <td>1</td>\n",
       "      <td>32</td>\n",
       "      <td>78</td>\n",
       "    </tr>\n",
       "  </tbody>\n",
       "</table>\n",
       "<p>692 rows × 4 columns</p>\n",
       "</div>"
      ],
      "text/plain": [
       "       price  categorie_n  title_n  tags_n\n",
       "0     1650.0            3      107      71\n",
       "1     3650.0            3      107      30\n",
       "2     1650.0            3      107       1\n",
       "3     1770.0            3      107      39\n",
       "4     1070.0            3      115      71\n",
       "..       ...          ...      ...     ...\n",
       "687   7500.0            1       31       1\n",
       "688   3900.0            1       31       1\n",
       "689  13700.0            1       30       9\n",
       "690  13700.0            1       29       2\n",
       "691  12500.0            1       32      78\n",
       "\n",
       "[692 rows x 4 columns]"
      ]
     },
     "execution_count": 24,
     "metadata": {},
     "output_type": "execute_result"
    }
   ],
   "source": [
    "# dropping unnecessary columns\n",
    "ds.drop(['categorie','title','tags'],axis=1, inplace=True)\n",
    "ds"
   ]
  },
  {
   "cell_type": "code",
   "execution_count": 25,
   "metadata": {},
   "outputs": [
    {
     "data": {
      "text/plain": [
       "3    259\n",
       "0    160\n",
       "2    155\n",
       "1    118\n",
       "Name: categorie_n, dtype: int64"
      ]
     },
     "execution_count": 25,
     "metadata": {},
     "output_type": "execute_result"
    }
   ],
   "source": [
    "value_bar = ds['categorie_n'].value_counts()\n",
    "value_bar"
   ]
  },
  {
   "cell_type": "code",
   "execution_count": 26,
   "metadata": {},
   "outputs": [
    {
     "data": {
      "text/plain": [
       "<BarContainer object of 4 artists>"
      ]
     },
     "execution_count": 26,
     "metadata": {},
     "output_type": "execute_result"
    },
    {
     "data": {
      "image/png": "[encoded data removed]",
      "text/plain": [
       "<Figure size 360x216 with 1 Axes>"
      ]
     },
     "metadata": {
      "needs_background": "light"
     },
     "output_type": "display_data"
    }
   ],
   "source": [
    "plt.figure(figsize=(5,3))\n",
    "plt.bar(x = [' Label 3','Label 0','Label 2','Label 1'], height = value_bar, color = 'orange')"
   ]
  },
  {
   "cell_type": "code",
   "execution_count": 27,
   "metadata": {},
   "outputs": [],
   "source": [
    "x = ds.drop('categorie_n', axis = 1)\n",
    "y = ds['categorie_n']"
   ]
  },
  {
   "cell_type": "markdown",
   "metadata": {},
   "source": [
    "### Splitting the data into train and test data\n",
    "  \n",
    "  * Immporting the library from the sklearn.model_selection\n",
    "  * Split the dataset into 80:20 ratio\n",
    "  * x_train and y_train are the trainning datasets\n",
    "  * x_test and y_test are the testing datasets\n",
    "  * After the spliting of the datasets the model is ready to be prepared!"
   ]
  },
  {
   "cell_type": "code",
   "execution_count": 28,
   "metadata": {},
   "outputs": [
    {
     "data": {
      "text/plain": [
       "((553, 3), (139, 3))"
      ]
     },
     "execution_count": 28,
     "metadata": {},
     "output_type": "execute_result"
    }
   ],
   "source": [
    "from sklearn.model_selection import train_test_split\n",
    "x_train, x_test, y_train, y_test = train_test_split(x,y, test_size = 0.2)\n",
    "\n",
    "x_train.shape , x_test.shape"
   ]
  },
  {
   "cell_type": "code",
   "execution_count": 29,
   "metadata": {},
   "outputs": [],
   "source": [
    "from sklearn.preprocessing import StandardScaler\n",
    "scaler = StandardScaler()\n",
    "\n",
    "x_train = scaler.fit_transform(x_train)\n",
    "x_test = scaler.transform(x_test)"
   ]
  },
  {
   "cell_type": "code",
   "execution_count": 30,
   "metadata": {},
   "outputs": [],
   "source": [
    "from sklearn.linear_model import LogisticRegression\n",
    "from sklearn.svm import SVC, LinearSVC\n",
    "from sklearn.ensemble import RandomForestClassifier\n",
    "from sklearn.neighbors import KNeighborsClassifier\n",
    "from sklearn.naive_bayes import GaussianNB\n",
    "from sklearn.linear_model import Perceptron\n",
    "from sklearn.linear_model import SGDClassifier\n",
    "from sklearn.tree import DecisionTreeClassifier"
   ]
  },
  {
   "cell_type": "markdown",
   "metadata": {},
   "source": [
    "### Decision Tree Classifier Algorithm\n",
    "\n",
    "Decision Tree is a Supervised learning technique that can be used for both classification and Regression problems, but mostly it is preferred for solving Classification problems. It is a tree-structured classifier, where internal nodes represent the features of a dataset, branches represent the decision rules and each leaf node represents the outcome.\n"
   ]
  },
  {
   "cell_type": "code",
   "execution_count": 31,
   "metadata": {},
   "outputs": [
    {
     "data": {
      "text/plain": [
       "0.841726618705036"
      ]
     },
     "execution_count": 31,
     "metadata": {},
     "output_type": "execute_result"
    }
   ],
   "source": [
    "dt = DecisionTreeClassifier()\n",
    "dt.fit(x_train,y_train)\n",
    "dt.score(x_test,y_test)"
   ]
  },
  {
   "cell_type": "markdown",
   "metadata": {},
   "source": [
    "### XGBoost classifier\n",
    "XGBoost provides a wrapper class to allow models to be treated like classifiers or regressors in the scikit-learn framework. The XGBoost model for classification is called XGBClassifier. We can create and and fit it to our training dataset. Models are fit using the scikit-learn API and the model.\n",
    "\n",
    "Let us try an even more powerful algorithm called the XGBoost classifier which takes gradient boosting to extreme levels."
   ]
  },
  {
   "cell_type": "code",
   "execution_count": 32,
   "metadata": {},
   "outputs": [
    {
     "name": "stderr",
     "output_type": "stream",
     "text": [
      "C:\\Users\\Raman\\AppData\\Local\\Programs\\Python\\Python39\\lib\\site-packages\\xgboost\\sklearn.py:1224: UserWarning: The use of label encoder in XGBClassifier is deprecated and will be removed in a future release. To remove this warning, do the following: 1) Pass option use_label_encoder=False when constructing XGBClassifier object; and 2) Encode your labels (y) as integers starting with 0, i.e. 0, 1, 2, ..., [num_class - 1].\n",
      "  warnings.warn(label_encoder_deprecation_msg, UserWarning)\n"
     ]
    },
    {
     "name": "stdout",
     "output_type": "stream",
     "text": [
      "[20:25:27] WARNING: C:/Users/Administrator/workspace/xgboost-win64_release_1.5.1/src/learner.cc:1115: Starting in XGBoost 1.3.0, the default evaluation metric used with the objective 'multi:softprob' was changed from 'merror' to 'mlogloss'. Explicitly set eval_metric if you'd like to restore the old behavior.\n"
     ]
    },
    {
     "data": {
      "text/plain": [
       "0.8920863309352518"
      ]
     },
     "execution_count": 32,
     "metadata": {},
     "output_type": "execute_result"
    }
   ],
   "source": [
    "from xgboost import XGBClassifier\n",
    "xg = XGBClassifier()\n",
    "xg.fit(x_train,y_train)\n",
    "xg.score(x_test,y_test)"
   ]
  },
  {
   "cell_type": "markdown",
   "metadata": {},
   "source": [
    "### Random Forest Classifier Algorithm\n",
    "\n",
    "Random Forest is a popular machine learning algorithm that belongs to the supervised learning technique. It can be used for both Classification and Regression problems in ML. It is based on the concept of ensemble learning, which is a process of combining multiple classifiers to solve a complex problem and to improve the performance of the model."
   ]
  },
  {
   "cell_type": "code",
   "execution_count": 33,
   "metadata": {},
   "outputs": [
    {
     "data": {
      "text/plain": [
       "0.6330935251798561"
      ]
     },
     "execution_count": 33,
     "metadata": {},
     "output_type": "execute_result"
    }
   ],
   "source": [
    "rfc = RandomForestClassifier()\n",
    "rfc.fit(x_train,y_train)\n",
    "rfc.score(x_test,y_test)"
   ]
  },
  {
   "cell_type": "markdown",
   "metadata": {},
   "source": [
    "### Logistic Regression \n",
    "\n",
    "Logistic regression is a statistical model that in its basic form uses a logistic function to model a binary dependent variable, although many more complex extensions exist. In regression analysis, logistic regression (or logit regression) is estimating the parameters of a logistic model (a form of binary regression)."
   ]
  },
  {
   "cell_type": "code",
   "execution_count": 34,
   "metadata": {},
   "outputs": [
    {
     "data": {
      "text/plain": [
       "0.4460431654676259"
      ]
     },
     "execution_count": 34,
     "metadata": {},
     "output_type": "execute_result"
    }
   ],
   "source": [
    "logreg = LogisticRegression(max_iter = 1000)\n",
    "logreg.fit(x_train,y_train)\n",
    "logreg.score(x_test,y_test)"
   ]
  },
  {
   "cell_type": "markdown",
   "metadata": {},
   "source": [
    "### K-Nearest Neighbours Algorithm\n",
    "\n",
    "K-Nearest Neighbour is one of the simplest Machine Learning algorithms based on Supervised Learning technique. K-NN algorithm assumes the similarity between the new case/data and available cases and put the new case into the category that is most similar to the available categories. K-NN algorithm stores all the available data and classifies a new data point based on the similarity. This means when new data appears then it can be easily classified into a well suite category by using K- NN algorithm."
   ]
  },
  {
   "cell_type": "code",
   "execution_count": 35,
   "metadata": {},
   "outputs": [
    {
     "data": {
      "text/plain": [
       "0.4748201438848921"
      ]
     },
     "execution_count": 35,
     "metadata": {},
     "output_type": "execute_result"
    }
   ],
   "source": [
    "classifier= KNeighborsClassifier(n_neighbors=5, metric='minkowski', p=2 ) \n",
    "classifier.fit(x_train,y_train)\n",
    "classifier.score(x_test,y_test)"
   ]
  },
  {
   "cell_type": "markdown",
   "metadata": {},
   "source": [
    "### Gausian NB Algorithm\n",
    "\n",
    "This method is expected to be called several times consecutively on different chunks of a dataset so as to implement out-of-core or online learning. This is especially useful when the whole dataset is too big to fit in memory at once. This method has some performance and numerical stability overhead, hence it is better to call partial_fit on chunks of data that are as large as possible (as long as fitting in the memory budget) to hide the overhead."
   ]
  },
  {
   "cell_type": "code",
   "execution_count": 36,
   "metadata": {},
   "outputs": [
    {
     "data": {
      "text/plain": [
       "0.4316546762589928"
      ]
     },
     "execution_count": 36,
     "metadata": {},
     "output_type": "execute_result"
    }
   ],
   "source": [
    "clf = GaussianNB()\n",
    "clf.fit(x_train,y_train)\n",
    "clf.score(x_test,y_test)"
   ]
  },
  {
   "cell_type": "markdown",
   "metadata": {},
   "source": [
    "### Support Vector Machine Algorithm\n",
    "\n",
    "Support Vector Machine or SVM is one of the most popular Supervised Learning algorithms, which is used for Classification as well as Regression problems. However, primarily, it is used for Classification problems in Machine Learning. The goal of the SVM algorithm is to create the best line or decision boundary that can segregate n-dimensional space into classes so that we can easily put the new data point in the correct category in the future. This best decision boundary is called a hyperplane."
   ]
  },
  {
   "cell_type": "code",
   "execution_count": 37,
   "metadata": {},
   "outputs": [
    {
     "data": {
      "text/plain": [
       "0.4172661870503597"
      ]
     },
     "execution_count": 37,
     "metadata": {},
     "output_type": "execute_result"
    }
   ],
   "source": [
    "svm = SVC()\n",
    "svm.fit(x_train,y_train)\n",
    "svm.score(x_test,y_test)"
   ]
  },
  {
   "cell_type": "markdown",
   "metadata": {},
   "source": [
    "**As XgBoost Classifier is having the highest accuracy let's find out the classification report for it**"
   ]
  },
  {
   "cell_type": "code",
   "execution_count": 38,
   "metadata": {},
   "outputs": [
    {
     "name": "stdout",
     "output_type": "stream",
     "text": [
      "Confusion Matrix\n",
      " [[29  1  3  0]\n",
      " [ 3 14  0  1]\n",
      " [ 6  0 27  0]\n",
      " [ 1  0  0 54]]\n"
     ]
    }
   ],
   "source": [
    "from sklearn.metrics import confusion_matrix, classification_report\n",
    "\n",
    "y_pred = xg.predict(x_test)\n",
    "\n",
    "cm = confusion_matrix(y_test, y_pred)\n",
    "print('Confusion Matrix\\n',cm)"
   ]
  },
  {
   "cell_type": "markdown",
   "metadata": {},
   "source": [
    "**Confusion Matrix using Heat Map**"
   ]
  },
  {
   "cell_type": "code",
   "execution_count": 39,
   "metadata": {},
   "outputs": [
    {
     "data": {
      "text/plain": [
       "Text(42.0, 0.5, 'truth')"
      ]
     },
     "execution_count": 39,
     "metadata": {},
     "output_type": "execute_result"
    },
    {
     "data": {
      "image/png": "[encoded data removed]",
      "text/plain": [
       "<Figure size 504x360 with 2 Axes>"
      ]
     },
     "metadata": {
      "needs_background": "light"
     },
     "output_type": "display_data"
    }
   ],
   "source": [
    "plt.figure(figsize=(7,5))\n",
    "sns.heatmap(cm,annot=True)\n",
    "plt.xlabel('Predicted')\n",
    "plt.ylabel('truth')"
   ]
  },
  {
   "cell_type": "markdown",
   "metadata": {},
   "source": [
    "**Classification Report**"
   ]
  },
  {
   "cell_type": "code",
   "execution_count": 40,
   "metadata": {},
   "outputs": [
    {
     "name": "stdout",
     "output_type": "stream",
     "text": [
      "              precision    recall  f1-score   support\n",
      "\n",
      "     class 0       0.74      0.88      0.81        33\n",
      "     class 1       0.93      0.78      0.85        18\n",
      "     class 2       0.90      0.82      0.86        33\n",
      "     class 3       0.98      0.98      0.98        55\n",
      "\n",
      "    accuracy                           0.89       139\n",
      "   macro avg       0.89      0.86      0.87       139\n",
      "weighted avg       0.90      0.89      0.89       139\n",
      "\n"
     ]
    }
   ],
   "source": [
    "print(classification_report(y_test, y_pred, target_names=['class 0','class 1','class 2','class 3']))"
   ]
  },
  {
   "cell_type": "markdown",
   "metadata": {},
   "source": [
    "****************************************************\n",
    "### Comparative analysis among the algorithms for this project\n",
    "\n",
    "We have deployed six machine learning algorithms and every algorithm is deployed successfully without any hesitation. We have checked the accuracy of the models based on the accuracy score of each of the models. Now let's take a look at the scores of each models.\n",
    "\n",
    "|Name of the Model|Accuracy Score|\n",
    "|:---:|:---:|\n",
    "|Logistic Regression|0.37|\n",
    "|Decision Tree Classifier|0.81|\n",
    "|Random Forest Classifier|0.60|\n",
    "|Gausian NB Algorithm|0.37|\n",
    "|KNN Algorithm|0.43|\n",
    "|Support Vector Machine Algorithm|0.36|\n",
    "|XgBoost Classifier|0.82|\n",
    "\n",
    "**Comparing all those scores scored by the machine learning algorithms, it is clear that XgBoost Classifier is having the upper hand in case of this dataset and after this, we can use Decision Tree algorithm, which is also having good score as compared to the other deployed algorithms**\n",
    "\n",
    "Best Fitted Models ranking - \n",
    "1. XgBoost Classifier\n",
    "2. Decision Tree Classifier\n",
    "3. Random Forest Classifier\n",
    "4. KNN Algorithm\n",
    "5. Logistic Regression\n",
    "6. Gausian NB Algorithm\n",
    "7. Support Vector Machine\n",
    "\n",
    "\n",
    "Hooray!! The models are deployed successfully!\n",
    "\n",
    "## Conclusion\n",
    "1. 66 percent of the product have diamonds in them, more than any other gems, Its most popular gem. onyx and emeralds are into the next ranks.\n",
    "2.  Jewels type include 4 category: rings, earring, necklaces and bracelets\n",
    "Ranks of metals in every category are the same and equal: 1.White Gold 2.Pink Gold 3.Yellow Gold 4.Platinum 5.Non-Rhodiumized White Gold\n",
    "3.  In every category Platinum in most valuable metal with a huge difference in price as $. After that White Gold have a second place but other metals are close in price for every category\n",
    "4. As we saw earlier Platinium is the most valuable metal that the Cartier used in jewels. The mean price of Platinium jewels is more than 40000 Dollars after that white metal is second. \"Yellow Gold\" and \"Non-Rhodiumized White Gold\" are about equal in mean price, in last is pink gold with mean of 15000 Dollars that is about one of third of Platinium\n",
    "5.  In all categories, diamond is the most popular gem in the making of jewelry. Exceedingly over 100 ring types include diamonds, in most cases more than one piece of diamond. This also rules for other categories of jewelry such as earrings, necklaces, and bracelets. Variety of the gems used in rings and bracelets are more than earrings and necklaces. Furthermore, Sapphires are also a popular gem used in ring production.\n",
    "6. Earrings, Necklaces, and Rings with Rubies(gem) has a huge difference in the price of jewelry, but Emeralds(gem) in Bracelets shows the is a key factor in price determination. A closer look at necklaces reveals us that Tsavorite garnet has third place in price.\n",
    "7. This plot shows us the mean price of products with gems on them As we could have predicted products that have Rubies on them are the most expensive jewelry in Cartier products. the next ranks belong to Tsavorite garnets, Emeralds, and the Chrysoprase. The middle gems on the above figure are equal in mean price\n",
    "8. Comparing all those scores scored by the machine learning algorithms, it is clear that XgBoost Classifier is having the upper hand in case of this dataset and after this, we can use Decision Tree algorithm, which is also having good score as compared to the other deployed algorithms\n",
    "\n",
    "### Hope this project will help you! Thank you!\n"
   ]
  }
 ],
 "metadata": {
  "kernelspec": {
   "display_name": "Python 3 (ipykernel)",
   "language": "python",
   "name": "python3"
  },
  "language_info": {
   "codemirror_mode": {
    "name": "ipython",
    "version": 3
   },
   "file_extension": ".py",
   "mimetype": "text/x-python",
   "name": "python",
   "nbconvert_exporter": "python",
   "pygments_lexer": "ipython3",
   "version": "3.9.8"
  }
 },
 "nbformat": 4,
 "nbformat_minor": 4
}
